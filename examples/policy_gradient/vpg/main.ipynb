{
 "cells": [
  {
   "cell_type": "code",
   "execution_count": 5,
   "metadata": {},
   "outputs": [],
   "source": [
    "from pathlib import Path\n",
    "from lagom.experiment import Configurator\n",
    "\n",
    "from lagom import pickle_load\n",
    "\n",
    "from lagom.core.plotter import CurvePlot"
   ]
  },
  {
   "cell_type": "code",
   "execution_count": 6,
   "metadata": {},
   "outputs": [
    {
     "data": {
      "text/html": [
       "<div>\n",
       "<style scoped>\n",
       "    .dataframe tbody tr th:only-of-type {\n",
       "        vertical-align: middle;\n",
       "    }\n",
       "\n",
       "    .dataframe tbody tr th {\n",
       "        vertical-align: top;\n",
       "    }\n",
       "\n",
       "    .dataframe thead th {\n",
       "        text-align: right;\n",
       "    }\n",
       "</style>\n",
       "<table border=\"1\" class=\"dataframe\">\n",
       "  <thead>\n",
       "    <tr style=\"text-align: right;\">\n",
       "      <th></th>\n",
       "      <th>ID</th>\n",
       "      <th>cuda</th>\n",
       "      <th>env.id</th>\n",
       "      <th>env.standardize</th>\n",
       "      <th>network.recurrent</th>\n",
       "      <th>network.hidden_sizes</th>\n",
       "      <th>algo.lr</th>\n",
       "      <th>algo.use_lr_scheduler</th>\n",
       "      <th>algo.gamma</th>\n",
       "      <th>agent.standardize_Q</th>\n",
       "      <th>...</th>\n",
       "      <th>agent.constant_std</th>\n",
       "      <th>agent.std_state_dependent</th>\n",
       "      <th>agent.init_std</th>\n",
       "      <th>train.timestep</th>\n",
       "      <th>train.N</th>\n",
       "      <th>train.T</th>\n",
       "      <th>eval.N</th>\n",
       "      <th>log.record_interval</th>\n",
       "      <th>log.print_interval</th>\n",
       "      <th>log.dir</th>\n",
       "    </tr>\n",
       "  </thead>\n",
       "  <tbody>\n",
       "    <tr>\n",
       "      <th>0</th>\n",
       "      <td>0</td>\n",
       "      <td>True</td>\n",
       "      <td>HalfCheetah-v2</td>\n",
       "      <td>True</td>\n",
       "      <td>False</td>\n",
       "      <td>[32]</td>\n",
       "      <td>0.001</td>\n",
       "      <td>True</td>\n",
       "      <td>0.99</td>\n",
       "      <td>True</td>\n",
       "      <td>...</td>\n",
       "      <td>None</td>\n",
       "      <td>False</td>\n",
       "      <td>1.0</td>\n",
       "      <td>1000000.0</td>\n",
       "      <td>1</td>\n",
       "      <td>200</td>\n",
       "      <td>10</td>\n",
       "      <td>100</td>\n",
       "      <td>500</td>\n",
       "      <td>logs</td>\n",
       "    </tr>\n",
       "  </tbody>\n",
       "</table>\n",
       "<p>1 rows × 26 columns</p>\n",
       "</div>"
      ],
      "text/plain": [
       "   ID  cuda          env.id  env.standardize  network.recurrent  \\\n",
       "0   0  True  HalfCheetah-v2             True              False   \n",
       "\n",
       "  network.hidden_sizes  algo.lr  algo.use_lr_scheduler  algo.gamma  \\\n",
       "0                 [32]    0.001                   True        0.99   \n",
       "\n",
       "   agent.standardize_Q   ...     agent.constant_std  \\\n",
       "0                 True   ...                   None   \n",
       "\n",
       "   agent.std_state_dependent  agent.init_std  train.timestep  train.N train.T  \\\n",
       "0                      False             1.0       1000000.0        1     200   \n",
       "\n",
       "  eval.N  log.record_interval  log.print_interval  log.dir  \n",
       "0     10                  100                 500     logs  \n",
       "\n",
       "[1 rows x 26 columns]"
      ]
     },
     "execution_count": 6,
     "metadata": {},
     "output_type": "execute_result"
    }
   ],
   "source": [
    "log_folder = Path('logs')\n",
    "\n",
    "list_config = pickle_load(log_folder/'configs.pkl')\n",
    "configs = Configurator.to_dataframe(list_config)\n",
    "configs"
   ]
  },
  {
   "cell_type": "code",
   "execution_count": 7,
   "metadata": {},
   "outputs": [],
   "source": [
    "def load_results(log_folder, ID, f):\n",
    "    p = Path(log_folder)/str(ID)\n",
    "    \n",
    "    list_result = []\n",
    "    for sub in p.iterdir():\n",
    "        if sub.is_dir() and (sub/f).exists():\n",
    "            list_result.append(pickle_load(sub/f))\n",
    "            \n",
    "    return list_result\n",
    "\n",
    "\n",
    "def get_returns(list_result):\n",
    "    returns = []\n",
    "    for result in list_result:\n",
    "        #x_values = [i['evaluation_iteration'][0] for i in result]\n",
    "        x_values = [i['accumulated_trained_timesteps'][0] for i in result]\n",
    "        y_values = [i['average_return'][0] for i in result]\n",
    "        returns.append([x_values, y_values])\n",
    "        \n",
    "    return returns\n"
   ]
  },
  {
   "cell_type": "code",
   "execution_count": 8,
   "metadata": {},
   "outputs": [],
   "source": [
    "ID = 0\n",
    "env_id = configs.loc[configs['ID'] == ID]['env.id'].values[0]"
   ]
  },
  {
   "cell_type": "code",
   "execution_count": 9,
   "metadata": {},
   "outputs": [],
   "source": [
    "list_result = load_results('logs', ID, 'eval_logs.pkl')\n",
    "returns = get_returns(list_result)\n",
    "x_values, y_values = zip(*returns)"
   ]
  },
  {
   "cell_type": "code",
   "execution_count": 10,
   "metadata": {},
   "outputs": [
    {
     "data": {
      "image/png": "[encoded data removed]",
      "text/plain": [
       "<Figure size 432x288 with 1 Axes>"
      ]
     },
     "metadata": {},
     "output_type": "display_data"
    }
   ],
   "source": [
    "plot = CurvePlot()\n",
    "plot.add('VPG', y_values, xvalues=x_values)\n",
    "ax = plot(title=f'VPG on {env_id}', \n",
    "          xlabel='Timestep', \n",
    "          ylabel='Mean Episode Reward', \n",
    "          num_tick=6, \n",
    "          xscale_magnitude=None)"
   ]
  },
  {
   "cell_type": "code",
   "execution_count": 11,
   "metadata": {},
   "outputs": [],
   "source": [
    "ax.figure.savefig('data/result.png')"
   ]
  }
 ],
 "metadata": {
  "kernelspec": {
   "display_name": "Python 3",
   "language": "python",
   "name": "python3"
  },
  "language_info": {
   "codemirror_mode": {
    "name": "ipython",
    "version": 3
   },
   "file_extension": ".py",
   "mimetype": "text/x-python",
   "name": "python",
   "nbconvert_exporter": "python",
   "pygments_lexer": "ipython3",
   "version": "3.6.6"
  }
 },
 "nbformat": 4,
 "nbformat_minor": 2
}

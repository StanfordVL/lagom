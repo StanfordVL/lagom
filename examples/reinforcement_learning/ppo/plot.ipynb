{
 "cells": [
  {
   "cell_type": "code",
   "execution_count": 80,
   "metadata": {},
   "outputs": [],
   "source": [
    "from pathlib import Path\n",
    "from lagom.experiment import Configurator\n",
    "from lagom.utils import pickle_load\n",
    "from lagom.vis import CurvePlot\n",
    "\n",
    "\n",
    "def load_loggings(log_folder, ID, f):\n",
    "    p = Path(log_folder)/str(ID)\n",
    "    \n",
    "    out = []\n",
    "    for seed_folder in p.iterdir():\n",
    "        if seed_folder.is_dir() and (seed_folder/f).exists():\n",
    "            out.append(pickle_load(seed_folder/f))\n",
    "            \n",
    "    return out\n",
    "\n",
    "\n",
    "def get_items(loggings, key):\n",
    "    out = []\n",
    "    \n",
    "    for logging in loggings:\n",
    "        items = [x[key][0] for x in logging]\n",
    "        out.append(items)\n",
    "        \n",
    "    return out"
   ]
  },
  {
   "cell_type": "code",
   "execution_count": 81,
   "metadata": {},
   "outputs": [
    {
     "data": {
      "text/html": [
       "<div>\n",
       "<style scoped>\n",
       "    .dataframe tbody tr th:only-of-type {\n",
       "        vertical-align: middle;\n",
       "    }\n",
       "\n",
       "    .dataframe tbody tr th {\n",
       "        vertical-align: top;\n",
       "    }\n",
       "\n",
       "    .dataframe thead th {\n",
       "        text-align: right;\n",
       "    }\n",
       "</style>\n",
       "<table border=\"1\" class=\"dataframe\">\n",
       "  <thead>\n",
       "    <tr style=\"text-align: right;\">\n",
       "      <th></th>\n",
       "      <th>ID</th>\n",
       "      <th>cuda</th>\n",
       "      <th>env.id</th>\n",
       "      <th>env.standardize</th>\n",
       "      <th>env.time_aware_obs</th>\n",
       "      <th>network.recurrent</th>\n",
       "      <th>network.hidden_sizes</th>\n",
       "      <th>network.independent_V</th>\n",
       "      <th>algo.lr</th>\n",
       "      <th>algo.lr_V</th>\n",
       "      <th>...</th>\n",
       "      <th>agent.init_std</th>\n",
       "      <th>train.timestep</th>\n",
       "      <th>train.N</th>\n",
       "      <th>train.ratio_T</th>\n",
       "      <th>eval.independent</th>\n",
       "      <th>eval.N</th>\n",
       "      <th>train.batch_size</th>\n",
       "      <th>train.num_epochs</th>\n",
       "      <th>log.interval</th>\n",
       "      <th>log.dir</th>\n",
       "    </tr>\n",
       "  </thead>\n",
       "  <tbody>\n",
       "    <tr>\n",
       "      <th>0</th>\n",
       "      <td>0</td>\n",
       "      <td>True</td>\n",
       "      <td>HalfCheetah-v2</td>\n",
       "      <td>True</td>\n",
       "      <td>False</td>\n",
       "      <td>False</td>\n",
       "      <td>[64, 64]</td>\n",
       "      <td>False</td>\n",
       "      <td>0.0003</td>\n",
       "      <td>0.001</td>\n",
       "      <td>...</td>\n",
       "      <td>0.5</td>\n",
       "      <td>1000000.0</td>\n",
       "      <td>2</td>\n",
       "      <td>1.0</td>\n",
       "      <td>False</td>\n",
       "      <td>10</td>\n",
       "      <td>256</td>\n",
       "      <td>80</td>\n",
       "      <td>10</td>\n",
       "      <td>logs</td>\n",
       "    </tr>\n",
       "  </tbody>\n",
       "</table>\n",
       "<p>1 rows × 37 columns</p>\n",
       "</div>"
      ],
      "text/plain": [
       "   ID  cuda          env.id  env.standardize  env.time_aware_obs  \\\n",
       "0   0  True  HalfCheetah-v2             True               False   \n",
       "\n",
       "   network.recurrent network.hidden_sizes  network.independent_V  algo.lr  \\\n",
       "0              False             [64, 64]                  False   0.0003   \n",
       "\n",
       "   algo.lr_V   ...     agent.init_std  train.timestep  train.N  train.ratio_T  \\\n",
       "0      0.001   ...                0.5       1000000.0        2            1.0   \n",
       "\n",
       "   eval.independent  eval.N  train.batch_size  train.num_epochs  log.interval  \\\n",
       "0             False      10               256                80            10   \n",
       "\n",
       "   log.dir  \n",
       "0     logs  \n",
       "\n",
       "[1 rows x 37 columns]"
      ]
     },
     "execution_count": 81,
     "metadata": {},
     "output_type": "execute_result"
    }
   ],
   "source": [
    "log_folder = Path(f'logs/')\n",
    "configs = Configurator.to_dataframe(pickle_load(log_folder/'configs.pkl'))\n",
    "configs"
   ]
  },
  {
   "cell_type": "code",
   "execution_count": 83,
   "metadata": {},
   "outputs": [
    {
     "data": {
      "image/png": "[encoded data removed]",
      "text/plain": [
       "<Figure size 432x288 with 1 Axes>"
      ]
     },
     "metadata": {},
     "output_type": "display_data"
    }
   ],
   "source": [
    "env_id = configs['env.id'][0]\n",
    "\n",
    "plot = CurvePlot()\n",
    "x_key = 'accumulated_trained_timesteps'\n",
    "y_key = 'running_mean_return'\n",
    "ylabel = 'Mean Episode Reward'\n",
    "#y_key = 'explained_variance'\n",
    "#ylabel = 'Explained Variance'\n",
    "\n",
    "IDs = list(configs['ID'])\n",
    "for ID in IDs:\n",
    "    loggings = load_loggings(log_folder, ID, 'train_logs.pkl')\n",
    "    x = get_items(loggings, x_key)\n",
    "    y = get_items(loggings, y_key)\n",
    "    plot.add(f'PPO - ID: {ID}', y, xvalues=x)\n",
    "\n",
    "ax = plot(title=f'{env_id}', \n",
    "          xlabel='Timestep', \n",
    "          ylabel=ylabel, \n",
    "          num_tick=6, \n",
    "          xscale_magnitude=None, \n",
    "          scales=[0.5], \n",
    "          alphas=[0.1])\n",
    "legend = ax.legend(loc='upper center', bbox_to_anchor=[0.5, -0.15], ncol=2)\n",
    "ax.figure.savefig('data/result.png', bbox_extra_artists=(legend,), bbox_inches='tight')"
   ]
  }
 ],
 "metadata": {
  "kernelspec": {
   "display_name": "Python 3",
   "language": "python",
   "name": "python3"
  },
  "language_info": {
   "codemirror_mode": {
    "name": "ipython",
    "version": 3
   },
   "file_extension": ".py",
   "mimetype": "text/x-python",
   "name": "python",
   "nbconvert_exporter": "python",
   "pygments_lexer": "ipython3",
   "version": "3.7.1"
  }
 },
 "nbformat": 4,
 "nbformat_minor": 2
}

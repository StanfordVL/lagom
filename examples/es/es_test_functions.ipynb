{
 "cells": [
  {
   "cell_type": "markdown",
   "metadata": {},
   "source": [
    "# Evolution strategies on test functions for optimization"
   ]
  },
  {
   "cell_type": "markdown",
   "metadata": {},
   "source": [
    "## Test functions for optimization"
   ]
  },
  {
   "cell_type": "code",
   "execution_count": 3,
   "metadata": {},
   "outputs": [
    {
     "data": {
      "text/plain": [
       "<matplotlib.contour.QuadContourSet at 0x3ffd04b92e10>"
      ]
     },
     "execution_count": 3,
     "metadata": {},
     "output_type": "execute_result"
    },
    {
     "data": {
      "image/png": "[encoded data removed]",
      "text/plain": [
       "<Figure size 432x288 with 1 Axes>"
      ]
     },
     "metadata": {
      "needs_background": "light"
     },
     "output_type": "display_data"
    }
   ],
   "source": [
    "import matplotlib.pyplot as plt\n",
    "import numpy as np\n",
    "\n",
    "from lagom.es import rastrigin\n",
    "from lagom.es import sphere\n",
    "from lagom.es import styblinski_tang\n",
    "from lagom.es import holder_table\n",
    "\n",
    "\n",
    "x = np.linspace(-5.12, 5.12, num=100)\n",
    "y = np.linspace(-5.12, 5.12, num=100)\n",
    "x, y = np.meshgrid(x, y)\n",
    "\n",
    "z = rastrigin([x, y])\n",
    "\n",
    "fig, ax = plt.subplots(1, 1)\n",
    "ax.contourf(x, y, z, cmap='jet')"
   ]
  },
  {
   "cell_type": "code",
   "execution_count": 14,
   "metadata": {},
   "outputs": [],
   "source": [
    "from lagom.utils import set_global_seeds\n",
    "\n",
    "set_global_seeds(0)\n",
    "\n",
    "def make_cma_es():\n",
    "    es = CMAES(mu0=[3]*100, \n",
    "               std0=0.5, \n",
    "               popsize=12)\n",
    "    \n",
    "    return es\n",
    "\n",
    "def make_openai_es(antithetic, rank_transform):\n",
    "    es = OpenAIES(mu0=[3]*100, \n",
    "                  std0=0.5, \n",
    "                  popsize=64, \n",
    "                  std_decay=0.999,\n",
    "                  min_std=0.01, \n",
    "                  lr=1e-1, \n",
    "                  lr_decay=1.0, \n",
    "                  min_lr=1e-1, \n",
    "                  antithetic=antithetic, \n",
    "                  rank_transform=rank_transform)\n",
    "    \n",
    "    return es"
   ]
  },
  {
   "cell_type": "code",
   "execution_count": 15,
   "metadata": {},
   "outputs": [
    {
     "name": "stdout",
     "output_type": "stream",
     "text": [
      "Best function value at generation 1: 1728.606939555127\n",
      "Best function value at generation 100: 1058.4371438277087\n",
      "Best function value at generation 200: 869.050800378411\n",
      "Best function value at generation 300: 848.2724340802283\n",
      "Best function value at generation 400: 834.176348278232\n",
      "Best function value at generation 500: 905.0172769971729\n",
      "Best function value at generation 600: 793.359183992822\n",
      "Best function value at generation 700: 803.6157941962091\n",
      "Best function value at generation 800: 723.7304418966213\n",
      "Best function value at generation 900: 702.1794001707453\n",
      "Best function value at generation 1000: 609.8021612050521\n",
      "Best function value at generation 1100: 607.9630529716247\n",
      "Best function value at generation 1200: 564.4946623002209\n",
      "Best function value at generation 1300: 582.148537682393\n",
      "Best function value at generation 1400: 512.2355996442044\n",
      "Best function value at generation 1500: 452.1832596338072\n",
      "Best function value at generation 1600: 461.8083802246816\n",
      "Best function value at generation 1700: 362.39439733696685\n",
      "Best function value at generation 1800: 447.74243955496684\n",
      "Best function value at generation 1900: 386.93321092873407\n",
      "Best function value at generation 2000: 451.83178644567374\n",
      "Best function value at generation 2100: 411.14095468788065\n",
      "Best function value at generation 2200: 496.43206111023824\n",
      "Best function value at generation 2300: 446.2842774068003\n",
      "Best function value at generation 2400: 509.7968485331624\n",
      "Best function value at generation 2500: 534.2102977554581\n",
      "Best function value at generation 2600: 460.28624296641465\n",
      "Best function value at generation 2700: 467.0897775727447\n",
      "Best function value at generation 2800: 542.7511339648511\n",
      "Best function value at generation 2900: 465.7745344036879\n",
      "Best function value at generation 3000: 482.5306186437828\n",
      "Best function value at generation 3100: 510.4553054265742\n",
      "Best function value at generation 3200: 534.7658290187135\n",
      "Best function value at generation 3300: 497.4353141163473\n",
      "Best function value at generation 3400: 596.1392433816458\n",
      "Best function value at generation 3500: 457.7885947425819\n",
      "Best function value at generation 3600: 511.8514025920396\n",
      "Best function value at generation 3700: 468.0760853524171\n",
      "Best function value at generation 3800: 497.4037550899261\n",
      "Best function value at generation 3900: 552.0178715437054\n",
      "Best function value at generation 4000: 504.2564996543281\n",
      "Best function value at generation 4100: 479.1496184104218\n",
      "Best function value at generation 4200: 462.9905524776896\n",
      "Best function value at generation 4300: 367.72009760573064\n",
      "Best function value at generation 4400: 357.31417660645366\n",
      "Best function value at generation 4500: 421.6804620549163\n",
      "Best function value at generation 4600: 335.5245737103758\n",
      "Best function value at generation 4700: 389.99558569906105\n",
      "Best function value at generation 4800: 330.82891209943654\n",
      "Best function value at generation 4900: 368.24389115643\n",
      "Best function value at generation 5000: 372.78606953887953\n",
      "\u001b[38;5;2m\u001b[1m\n",
      "Total time: 0:00:31\u001b[0m\n"
     ]
    }
   ],
   "source": [
    "from lagom.utils import timed\n",
    "\n",
    "from cma_es import CMAES\n",
    "from openai_es import OpenAIES\n",
    "\n",
    "from lagom.es import BaseESWorker\n",
    "from lagom.es import BaseESMaster\n",
    "\n",
    "\n",
    "class ESWorker(BaseESWorker):\n",
    "    def prepare(self):\n",
    "        pass\n",
    "        \n",
    "    def f(self, config, solution):\n",
    "        function_value = rastrigin(solution)\n",
    "        \n",
    "        return function_value\n",
    "    \n",
    "\n",
    "class ESMaster(BaseESMaster):\n",
    "    def make_es(self, config):\n",
    "        es = make_openai_es(True, True)\n",
    "        self.f_values = []\n",
    "        \n",
    "        return es\n",
    "        \n",
    "    def process_es_result(self, result):\n",
    "        best_f_val = result['best_f_val']\n",
    "        if self.generation == 0 or (self.generation+1) % 500 == 0:\n",
    "            self.f_values.append(best_f_val)\n",
    "            print(f'Best function value at generation {self.generation+1}: {best_f_val}')\n",
    "            \n",
    "\n",
    "with timed():\n",
    "    config = {'es.num_generation': 5000}\n",
    "    es = ESMaster(config, ESWorker)\n",
    "    es()"
   ]
  },
  {
   "cell_type": "code",
   "execution_count": 16,
   "metadata": {},
   "outputs": [
    {
     "data": {
      "text/plain": [
       "<matplotlib.legend.Legend at 0x3ffd02713b00>"
      ]
     },
     "execution_count": 16,
     "metadata": {},
     "output_type": "execute_result"
    },
    {
     "data": {
      "image/png": "[encoded data removed]",
      "text/plain": [
       "<Figure size 432x288 with 1 Axes>"
      ]
     },
     "metadata": {},
     "output_type": "display_data"
    }
   ],
   "source": [
    "import matplotlib.pyplot as plt\n",
    "import seaborn as sns\n",
    "\n",
    "sns.set()\n",
    "\n",
    "fig, ax = plt.subplots(nrows=1, ncols=1)\n",
    "\n",
    "ax.plot(es.f_values, label='OpenAIES')\n",
    "\n",
    "ax.set_title('Optimize rastrigin function')\n",
    "ax.legend()"
   ]
  },
  {
   "cell_type": "code",
   "execution_count": null,
   "metadata": {},
   "outputs": [],
   "source": []
  },
  {
   "cell_type": "code",
   "execution_count": null,
   "metadata": {},
   "outputs": [],
   "source": []
  }
 ],
 "metadata": {
  "kernelspec": {
   "display_name": "Python 3",
   "language": "python",
   "name": "python3"
  },
  "language_info": {
   "codemirror_mode": {
    "name": "ipython",
    "version": 3
   },
   "file_extension": ".py",
   "mimetype": "text/x-python",
   "name": "python",
   "nbconvert_exporter": "python",
   "pygments_lexer": "ipython3",
   "version": "3.7.0"
  }
 },
 "nbformat": 4,
 "nbformat_minor": 2
}

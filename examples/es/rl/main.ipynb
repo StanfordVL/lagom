{
 "cells": [
  {
   "cell_type": "code",
   "execution_count": 72,
   "metadata": {},
   "outputs": [
    {
     "data": {
      "text/plain": [
       "Policy\n",
       "\tEnvSpec: <EnvSpec, <SerialVecEnv: Pendulum-v0, n: 5>>\n",
       "\tNumber of environments: 5\n",
       "\tObservation space: Box(3,)\n",
       "\tAction space: Box(1,)\n",
       "\tControl type: Continuous\n",
       "\tT: 200\n",
       "\tMax episode reward: None\n",
       "\tReward range: (-inf, inf)\n",
       "\tIs VecEnv: True\n",
       "\tRecurrent: False"
      ]
     },
     "execution_count": 72,
     "metadata": {},
     "output_type": "execute_result"
    }
   ],
   "source": [
    "from lagom.envs import make_vec_env\n",
    "from lagom.envs import make_gym_env\n",
    "from lagom.envs.vec_env import SerialVecEnv\n",
    "from lagom.envs import EnvSpec\n",
    "\n",
    "from lagom.runner import TrajectoryRunner\n",
    "\n",
    "from model import Agent\n",
    "\n",
    "config = {'network.hidden_size': [32]}\n",
    "\n",
    "env = make_vec_env(vec_env_class=SerialVecEnv, \n",
    "                   make_env=make_gym_env, \n",
    "                   env_id='Pendulum-v0', \n",
    "                   num_env=5, \n",
    "                   init_seed=0, \n",
    "                   rolling=False)\n",
    "env_spec = EnvSpec(env)\n",
    "\n",
    "agent = Agent(config, env_spec, None)\n",
    "runner = TrajectoryRunner(config, agent, env)\n",
    "D = runner(200)\n"
   ]
  },
  {
   "cell_type": "code",
   "execution_count": 79,
   "metadata": {},
   "outputs": [
    {
     "data": {
      "text/plain": [
       "MLP(\n",
       "  (feature_layers): ModuleList(\n",
       "    (0): Linear(in_features=3, out_features=32, bias=True)\n",
       "  )\n",
       ")"
      ]
     },
     "execution_count": 79,
     "metadata": {},
     "output_type": "execute_result"
    }
   ],
   "source": [
    "agent.policy.feature_network"
   ]
  },
  {
   "cell_type": "code",
   "execution_count": null,
   "metadata": {},
   "outputs": [],
   "source": []
  },
  {
   "cell_type": "code",
   "execution_count": 39,
   "metadata": {},
   "outputs": [
    {
     "data": {
      "text/plain": [
       "array([-1., -1., -8.], dtype=float32)"
      ]
     },
     "execution_count": 39,
     "metadata": {},
     "output_type": "execute_result"
    }
   ],
   "source": [
    "from lagom.envs import make_vec_env\n",
    "from lagom.envs import make_gym_env\n",
    "from lagom.envs.vec_env import SerialVecEnv\n",
    "from lagom.envs import EnvSpec\n",
    "\n",
    "env = make_vec_env(SerialVecEnv, make_gym_env, 'Pendulum-v0', 3, 0, False)\n",
    "env_spec = EnvSpec(env)\n",
    "env_spec.observation_space.low"
   ]
  },
  {
   "cell_type": "code",
   "execution_count": 24,
   "metadata": {},
   "outputs": [],
   "source": [
    "agent = Agent({'network.hidden_size': [10]}, env_spec, None)"
   ]
  },
  {
   "cell_type": "code",
   "execution_count": 19,
   "metadata": {},
   "outputs": [],
   "source": []
  },
  {
   "cell_type": "code",
   "execution_count": null,
   "metadata": {},
   "outputs": [],
   "source": [
    "   \n",
    "class LSTM(BaseRNN):\n",
    "    def make_params(self, config):\n",
    "        self.rnn = nn.LSTMCell(input_size=self.env_spec.observation_space.flat_dim, \n",
    "                               hidden_size=config['network.hidden_size'][0])\n",
    "\n",
    "        self.last_feature_dim = config['network.hidden_size'][0]\n",
    "        \n",
    "    def init_params(self, config):\n",
    "        ortho_init(self.rnn, nonlinearity=None, weight_scale=1.0, constant_bias=0.0)\n",
    "        \n",
    "    def init_hidden_states(self, config, batch_size, **kwargs):\n",
    "        h = torch.zeros(batch_size, config['network.hidden_size'][0])\n",
    "        h = h.to(self.device)\n",
    "        c = torch.zeros_like(h)\n",
    "\n",
    "        return [h, c]\n",
    "    \n",
    "    def rnn_forward(self, x, hidden_states, mask=None, **kwargs):\n",
    "        # mask out hidden states if required\n",
    "        if mask is not None:\n",
    "            h, c = hidden_states\n",
    "            mask = mask.to(self.device)\n",
    "            \n",
    "            h = h*mask\n",
    "            c = c*mask\n",
    "            hidden_states = [h, c]\n",
    "\n",
    "        h, c = self.rnn(x, hidden_states)\n",
    "\n",
    "        out = {'output': h, 'hidden_states': [h, c]}\n",
    "\n",
    "        return out\n",
    "    \n",
    "\n"
   ]
  },
  {
   "cell_type": "code",
   "execution_count": null,
   "metadata": {},
   "outputs": [],
   "source": []
  },
  {
   "cell_type": "code",
   "execution_count": null,
   "metadata": {},
   "outputs": [],
   "source": []
  },
  {
   "cell_type": "code",
   "execution_count": null,
   "metadata": {},
   "outputs": [],
   "source": []
  },
  {
   "cell_type": "code",
   "execution_count": null,
   "metadata": {},
   "outputs": [],
   "source": []
  },
  {
   "cell_type": "code",
   "execution_count": null,
   "metadata": {},
   "outputs": [],
   "source": []
  },
  {
   "cell_type": "code",
   "execution_count": null,
   "metadata": {},
   "outputs": [],
   "source": []
  },
  {
   "cell_type": "code",
   "execution_count": 49,
   "metadata": {},
   "outputs": [],
   "source": [
    "from pathlib import Path\n",
    "\n",
    "import numpy as np\n",
    "\n",
    "from lagom.experiment import Configurator\n",
    "\n",
    "from lagom.utils import pickle_load\n",
    "\n",
    "from lagom.vis import CurvePlot"
   ]
  },
  {
   "cell_type": "code",
   "execution_count": 50,
   "metadata": {},
   "outputs": [
    {
     "data": {
      "text/html": [
       "<div>\n",
       "<style scoped>\n",
       "    .dataframe tbody tr th:only-of-type {\n",
       "        vertical-align: middle;\n",
       "    }\n",
       "\n",
       "    .dataframe tbody tr th {\n",
       "        vertical-align: top;\n",
       "    }\n",
       "\n",
       "    .dataframe thead th {\n",
       "        text-align: right;\n",
       "    }\n",
       "</style>\n",
       "<table border=\"1\" class=\"dataframe\">\n",
       "  <thead>\n",
       "    <tr style=\"text-align: right;\">\n",
       "      <th></th>\n",
       "      <th>ID</th>\n",
       "      <th>cuda</th>\n",
       "      <th>env.id</th>\n",
       "      <th>env.standardize</th>\n",
       "      <th>network.recurrent</th>\n",
       "      <th>network.hidden_size</th>\n",
       "      <th>es.algo</th>\n",
       "      <th>es.popsize</th>\n",
       "      <th>es.mu0</th>\n",
       "      <th>es.std0</th>\n",
       "      <th>train.num_iteration</th>\n",
       "      <th>train.N</th>\n",
       "      <th>log.print_interval</th>\n",
       "      <th>log.dir</th>\n",
       "    </tr>\n",
       "  </thead>\n",
       "  <tbody>\n",
       "    <tr>\n",
       "      <th>0</th>\n",
       "      <td>0</td>\n",
       "      <td>False</td>\n",
       "      <td>Pendulum-v0</td>\n",
       "      <td>True</td>\n",
       "      <td>False</td>\n",
       "      <td>[32]</td>\n",
       "      <td>OpenAIES</td>\n",
       "      <td>16</td>\n",
       "      <td>0.0</td>\n",
       "      <td>0.5</td>\n",
       "      <td>1000</td>\n",
       "      <td>5</td>\n",
       "      <td>100</td>\n",
       "      <td>logs</td>\n",
       "    </tr>\n",
       "  </tbody>\n",
       "</table>\n",
       "</div>"
      ],
      "text/plain": [
       "   ID   cuda       env.id  env.standardize  network.recurrent  \\\n",
       "0   0  False  Pendulum-v0             True              False   \n",
       "\n",
       "  network.hidden_size   es.algo  es.popsize  es.mu0  es.std0  \\\n",
       "0                [32]  OpenAIES          16     0.0      0.5   \n",
       "\n",
       "   train.num_iteration  train.N  log.print_interval log.dir  \n",
       "0                 1000        5                 100    logs  "
      ]
     },
     "execution_count": 50,
     "metadata": {},
     "output_type": "execute_result"
    }
   ],
   "source": [
    "log_folder = Path('logs')\n",
    "\n",
    "list_config = pickle_load(log_folder/'configs.pkl')\n",
    "configs = Configurator.to_dataframe(list_config)\n",
    "configs"
   ]
  },
  {
   "cell_type": "code",
   "execution_count": 51,
   "metadata": {},
   "outputs": [],
   "source": [
    "def load_results(log_folder, ID):\n",
    "    p = Path(log_folder)/str(ID)\n",
    "    \n",
    "    list_result = []\n",
    "    for sub in p.iterdir():\n",
    "        if sub.is_dir() and (sub/'result.pkl').exists():  # seed directories\n",
    "            list_result.append(pickle_load(sub/'result.pkl'))\n",
    "            \n",
    "    return list_result\n",
    "\n",
    "\n",
    "def get_returns(list_result):\n",
    "    returns = []\n",
    "    for result in list_result:\n",
    "        returns.append(result['best_return'])\n",
    "        \n",
    "    return returns"
   ]
  },
  {
   "cell_type": "code",
   "execution_count": 52,
   "metadata": {},
   "outputs": [],
   "source": [
    "list_result = load_results('logs/', 0)\n",
    "returns = get_returns(list_result)\n",
    "returns = np.asarray(returns)[:, ::10]\n",
    "\n",
    "env_id = configs.iloc[0]['env.id']"
   ]
  },
  {
   "cell_type": "code",
   "execution_count": 53,
   "metadata": {},
   "outputs": [
    {
     "data": {
      "image/png": "[encoded data removed]",
      "text/plain": [
       "<Figure size 432x288 with 1 Axes>"
      ]
     },
     "metadata": {},
     "output_type": "display_data"
    }
   ],
   "source": [
    "plot = CurvePlot()\n",
    "plot.add('OpenAI-ES', returns)\n",
    "ax = plot(title=env_id, \n",
    "          xlabel='Generation', \n",
    "          ylabel='Mean Episode Reward', \n",
    "          num_tick=6, \n",
    "          xscale_magnitude=None)"
   ]
  },
  {
   "cell_type": "code",
   "execution_count": 33,
   "metadata": {},
   "outputs": [],
   "source": [
    "ax.figure.savefig(f'data/{env_id}.png')"
   ]
  }
 ],
 "metadata": {
  "kernelspec": {
   "display_name": "Python 3",
   "language": "python",
   "name": "python3"
  },
  "language_info": {
   "codemirror_mode": {
    "name": "ipython",
    "version": 3
   },
   "file_extension": ".py",
   "mimetype": "text/x-python",
   "name": "python",
   "nbconvert_exporter": "python",
   "pygments_lexer": "ipython3",
   "version": "3.7.0"
  }
 },
 "nbformat": 4,
 "nbformat_minor": 2
}

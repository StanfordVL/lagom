{
 "cells": [
  {
   "cell_type": "code",
   "execution_count": 16,
   "metadata": {},
   "outputs": [],
   "source": [
    "from pathlib import Path\n",
    "from lagom.experiment import Configurator\n",
    "\n",
    "from lagom import pickle_load\n",
    "\n",
    "from lagom.core.plotter import CurvePlot"
   ]
  },
  {
   "cell_type": "code",
   "execution_count": 17,
   "metadata": {},
   "outputs": [
    {
     "data": {
      "text/html": [
       "<div>\n",
       "<style scoped>\n",
       "    .dataframe tbody tr th:only-of-type {\n",
       "        vertical-align: middle;\n",
       "    }\n",
       "\n",
       "    .dataframe tbody tr th {\n",
       "        vertical-align: top;\n",
       "    }\n",
       "\n",
       "    .dataframe thead th {\n",
       "        text-align: right;\n",
       "    }\n",
       "</style>\n",
       "<table border=\"1\" class=\"dataframe\">\n",
       "  <thead>\n",
       "    <tr style=\"text-align: right;\">\n",
       "      <th></th>\n",
       "      <th>ID</th>\n",
       "      <th>cuda</th>\n",
       "      <th>env.id</th>\n",
       "      <th>network.recurrent</th>\n",
       "      <th>network.hidden_size</th>\n",
       "      <th>es.popsize</th>\n",
       "      <th>es.mu0</th>\n",
       "      <th>es.std0</th>\n",
       "      <th>train.num_iteration</th>\n",
       "      <th>train.N</th>\n",
       "      <th>train.T</th>\n",
       "      <th>log.interval</th>\n",
       "      <th>log.dir</th>\n",
       "    </tr>\n",
       "  </thead>\n",
       "  <tbody>\n",
       "    <tr>\n",
       "      <th>0</th>\n",
       "      <td>0</td>\n",
       "      <td>False</td>\n",
       "      <td>Pendulum-v0</td>\n",
       "      <td>False</td>\n",
       "      <td>[32]</td>\n",
       "      <td>128</td>\n",
       "      <td>0.0</td>\n",
       "      <td>0.5</td>\n",
       "      <td>1000</td>\n",
       "      <td>5</td>\n",
       "      <td>300</td>\n",
       "      <td>100</td>\n",
       "      <td>logs</td>\n",
       "    </tr>\n",
       "  </tbody>\n",
       "</table>\n",
       "</div>"
      ],
      "text/plain": [
       "   ID   cuda       env.id  network.recurrent network.hidden_size  es.popsize  \\\n",
       "0   0  False  Pendulum-v0              False                [32]         128   \n",
       "\n",
       "   es.mu0  es.std0  train.num_iteration  train.N  train.T  log.interval  \\\n",
       "0     0.0      0.5                 1000        5      300           100   \n",
       "\n",
       "  log.dir  \n",
       "0    logs  "
      ]
     },
     "execution_count": 17,
     "metadata": {},
     "output_type": "execute_result"
    }
   ],
   "source": [
    "log_folder = Path('logs')\n",
    "\n",
    "list_config = pickle_load(log_folder/'configs.pkl')\n",
    "configs = Configurator.to_dataframe(list_config)\n",
    "configs"
   ]
  },
  {
   "cell_type": "code",
   "execution_count": 18,
   "metadata": {},
   "outputs": [],
   "source": [
    "def load_results(log_folder, ID):\n",
    "    p = Path(log_folder)/str(ID)\n",
    "    \n",
    "    list_result = []\n",
    "    for sub in p.iterdir():\n",
    "        if sub.is_dir() and (sub/'result.pkl').exists():\n",
    "            list_result.append(pickle_load(sub/'result.pkl'))\n",
    "            \n",
    "    return list_result\n",
    "\n",
    "\n",
    "def get_returns(list_result):\n",
    "    returns = []\n",
    "    for result in list_result:\n",
    "        returns.append(result['best_return'])\n",
    "        \n",
    "    return returns"
   ]
  },
  {
   "cell_type": "code",
   "execution_count": 19,
   "metadata": {},
   "outputs": [],
   "source": [
    "list_result = load_results('logs/', 0)\n",
    "returns = get_returns(list_result)"
   ]
  },
  {
   "cell_type": "code",
   "execution_count": 20,
   "metadata": {},
   "outputs": [
    {
     "data": {
      "image/png": "[encoded data removed]",
      "text/plain": [
       "<Figure size 432x288 with 1 Axes>"
      ]
     },
     "metadata": {},
     "output_type": "display_data"
    }
   ],
   "source": [
    "plot = CurvePlot()\n",
    "plot.add('CMA-ES', returns)\n",
    "ax = plot(title='CMA-ES on Pendulum-v0', \n",
    "          xlabel='Generation', \n",
    "          ylabel='Mean Episode Reward', \n",
    "          num_tick=6, \n",
    "          xscale_magnitude=None)"
   ]
  },
  {
   "cell_type": "code",
   "execution_count": 21,
   "metadata": {},
   "outputs": [],
   "source": [
    "ax.figure.savefig('data/result.png')"
   ]
  }
 ],
 "metadata": {
  "kernelspec": {
   "display_name": "Python 3",
   "language": "python",
   "name": "python3"
  },
  "language_info": {
   "codemirror_mode": {
    "name": "ipython",
    "version": 3
   },
   "file_extension": ".py",
   "mimetype": "text/x-python",
   "name": "python",
   "nbconvert_exporter": "python",
   "pygments_lexer": "ipython3",
   "version": "3.6.6"
  }
 },
 "nbformat": 4,
 "nbformat_minor": 2
}
